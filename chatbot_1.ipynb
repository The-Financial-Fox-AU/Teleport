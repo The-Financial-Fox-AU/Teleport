{
  "nbformat": 4,
  "nbformat_minor": 0,
  "metadata": {
    "colab": {
      "name": "chatbot_1.ipynb",
      "provenance": [],
      "include_colab_link": true
    },
    "kernelspec": {
      "name": "python3",
      "display_name": "Python 3"
    }
  },
  "cells": [
    {
      "cell_type": "markdown",
      "metadata": {
        "id": "view-in-github",
        "colab_type": "text"
      },
      "source": [
        "<a href=\"https://colab.research.google.com/github/The-Financial-Fox-AU/Teleport/blob/master/chatbot_1.ipynb\" target=\"_parent\"><img src=\"https://colab.research.google.com/assets/colab-badge.svg\" alt=\"Open In Colab\"/></a>"
      ]
    },
    {
      "cell_type": "code",
      "metadata": {
        "id": "cLO3RO_FzygH",
        "colab_type": "code",
        "colab": {}
      },
      "source": [
        "pip install nltk\n"
      ],
      "execution_count": 0,
      "outputs": []
    },
    {
      "cell_type": "code",
      "metadata": {
        "id": "K-WLE5DKs4Ru",
        "colab_type": "code",
        "colab": {}
      },
      "source": [
        "pip install newspaper3k "
      ],
      "execution_count": 0,
      "outputs": []
    },
    {
      "cell_type": "code",
      "metadata": {
        "id": "xBfc_bI8tSfk",
        "colab_type": "code",
        "colab": {}
      },
      "source": [
        "from newspaper import Article\n",
        "import random\n",
        "import string\n",
        "from sklearn.feature_extraction.text import TfidfTransformer\n",
        "from sklearn.feature_extraction.text import TfidfVectorizer\n",
        "from sklearn.metrics.pairwise import cosine_similarity\n",
        "import nltk\n",
        "import numpy as np\n",
        "import warnings"
      ],
      "execution_count": 0,
      "outputs": []
    },
    {
      "cell_type": "code",
      "metadata": {
        "id": "nl4Zka2Mu39O",
        "colab_type": "code",
        "colab": {}
      },
      "source": [
        "warnings.filterwarnings('ignore')"
      ],
      "execution_count": 0,
      "outputs": []
    },
    {
      "cell_type": "code",
      "metadata": {
        "id": "OKqzHWOEu-w_",
        "colab_type": "code",
        "colab": {}
      },
      "source": [
        "nltk.download('punkt', quiet=True)\n",
        "nltk.download('wordnet', quiet=True)"
      ],
      "execution_count": 0,
      "outputs": []
    },
    {
      "cell_type": "code",
      "metadata": {
        "id": "NB8HyMa4vLqS",
        "colab_type": "code",
        "colab": {}
      },
      "source": [
        "article = Article('https://insight.factset.com/economic-impact-of-covid-19')\n",
        "article.download()\n",
        "article.parse()\n",
        "article.nlp()\n",
        "corpus = article.text\n",
        "\n",
        "print(corpus)"
      ],
      "execution_count": 0,
      "outputs": []
    },
    {
      "cell_type": "code",
      "metadata": {
        "id": "hW3lDyBOyHV9",
        "colab_type": "code",
        "colab": {}
      },
      "source": [
        "#Tokenize\n",
        "text = corpus \n",
        "sent_tokens = nltk.sent_tokenize(text)\n",
        "\n",
        "print(sent_tokens)"
      ],
      "execution_count": 0,
      "outputs": []
    },
    {
      "cell_type": "code",
      "metadata": {
        "id": "FUmd08doyiTC",
        "colab_type": "code",
        "colab": {}
      },
      "source": [
        "# Create a dictionary (key:value) pair to remove puncuations\n",
        "remove_punct_dict = dict( (ord(punct), None) for punct in string.punctuation)\n",
        "\n",
        "print(string.punctuation)\n",
        "\n",
        "print(remove_punct_dict)"
      ],
      "execution_count": 0,
      "outputs": []
    },
    {
      "cell_type": "code",
      "metadata": {
        "id": "Cf8rwQAWzdqC",
        "colab_type": "code",
        "colab": {}
      },
      "source": [
        "#create a function to return a list Lemmatized lower case words after removing punctuations \n",
        "\n",
        "def LenNormalize(text):\n",
        "  return nltk.word_tokenize(text.lower())\n",
        "\n",
        "print(LenNormalize(text))"
      ],
      "execution_count": 0,
      "outputs": []
    },
    {
      "cell_type": "code",
      "metadata": {
        "id": "X_8C7UDF14QA",
        "colab_type": "code",
        "colab": {}
      },
      "source": [
        "#Keyword matching\n",
        "\n",
        "GREETING_INPUTS = ['hi', 'hello', 'hey', 'wassup', 'whats up', 'hola']\n",
        "GREETING_RESPONSE = ['Hey!', 'howdy', 'hello there', 'hi']\n",
        "\n",
        "def greeting(sentence):\n",
        "  for word in sentence.split():\n",
        "    if word.lower() in GREETING_INPUTS:\n",
        "      return random.choice(GREETING_RESPONSE)"
      ],
      "execution_count": 0,
      "outputs": []
    },
    {
      "cell_type": "code",
      "metadata": {
        "id": "4le11gpR2xR2",
        "colab_type": "code",
        "colab": {}
      },
      "source": [
        "def response(user_response):\n",
        "  user_response = user_response.lower()\n",
        "  \n",
        "  robo_response = ''\n",
        "  \n",
        "  sent_tokens.append(user_response)\n",
        "\n",
        "  TfidfVec = TfidfVectorizer(tokenizer = LenNormalize, stop_words = 'english')\n",
        "\n",
        "  tfidf = TfidfVec.fit_transform(sent_tokens)\n",
        "\n",
        "  vals = cosine_similarity(tfidf[-1], tfidf)\n",
        "\n",
        "  idx = vals.argsort()[0][-2]\n",
        "\n",
        "  flat = vals.flatten()\n",
        "\n",
        "  flat.sort()\n",
        "\n",
        "  score = flat[-2]\n",
        "\n",
        "  if score == 0:\n",
        "    robo_response = robo_response + \"I apologize, I did not understand.\"\n",
        "  else:\n",
        "    robo_response =  robo_response + sent_tokens[idx]\n",
        "\n",
        "  sent_tokens.remove(user_response)\n",
        "\n",
        "  return robo_response\n"
      ],
      "execution_count": 0,
      "outputs": []
    },
    {
      "cell_type": "code",
      "metadata": {
        "id": "JHQTtfCHIo4z",
        "colab_type": "code",
        "colab": {}
      },
      "source": [
        "flag = True\n",
        "print(\"Hey, I am Marco the chatbot. How may I help you!\")\n",
        "while(flag == True):\n",
        "  user_response = input()\n",
        "  user_response = user_response.lower()\n",
        "  if (user_response != 'bye'):\n",
        "    if (user_response == 'thanks' or user_response=='thank you'):\n",
        "      flag = False\n",
        "      print('You are welcome!')\n",
        "    else:\n",
        "      if (greeting(user_response) != None):\n",
        "        print(greeting(user_response))\n",
        "      else:\n",
        "        print(response(user_response))\n",
        "  else:\n",
        "    flag = False\n",
        "    print('Bye. See you soon')\n",
        "    "
      ],
      "execution_count": 0,
      "outputs": []
    },
    {
      "cell_type": "markdown",
      "metadata": {
        "id": "eP_giOkW35Hk",
        "colab_type": "text"
      },
      "source": [
        "# New Section"
      ]
    },
    {
      "cell_type": "markdown",
      "metadata": {
        "id": "WbsoRNUA32wm",
        "colab_type": "text"
      },
      "source": [
        ""
      ]
    }
  ]
}